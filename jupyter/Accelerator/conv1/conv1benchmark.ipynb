{
 "cells": [
  {
   "cell_type": "code",
   "execution_count": 2,
   "id": "1469cd80-fcb9-4db5-a8fd-2dcf15f66106",
   "metadata": {},
   "outputs": [],
   "source": [
    "import numpy as np\n",
    "import time\n",
    "from pynq import Overlay, allocate\n",
    "\n",
    "# Define dimensions\n",
    "input_dim = (1, 32, 32)\n",
    "weights_dim = (6, 1, 5, 5)\n",
    "bias_dim = (6,)\n",
    "output_dim = (6, 28, 28)\n",
    "\n",
    "# Generate random input, weights, and biases\n",
    "num_test_cases = 5  # Number of test cases\n",
    "test_results = []\n",
    "\n",
    "for test_id in range(num_test_cases):\n",
    "    # Generate random input, weights, and bias\n",
    "    # input_data = np.random.randn(*input_dim).astype('f4')\n",
    "    # weights_data = np.random.randn(*weights_dim).astype('f4')\n",
    "    # bias_data = np.random.randn(*bias_dim).astype('f4')\n",
    "    input_data = np.ones(input_dim, dtype='f4')\n",
    "    weights_data = np.ones(weights_dim, dtype='f4')\n",
    "    bias_data = np.zeros(bias_dim, dtype='f4')\n"
   ]
  },
  {
   "cell_type": "code",
   "execution_count": 3,
   "id": "81be433f-f1c3-4745-97d0-57ab511e1429",
   "metadata": {},
   "outputs": [],
   "source": [
    "from pynq import Overlay\n",
    "    \n",
    "overlay = Overlay(\"lenet_conv1.bit\")\n",
    "conv_hw = overlay.convolution1_hls_0  "
   ]
  },
  {
   "cell_type": "code",
   "execution_count": 4,
   "id": "11e1c4be-11c9-45f1-a8ea-02ac8a469fea",
   "metadata": {},
   "outputs": [
    {
     "name": "stdout",
     "output_type": "stream",
     "text": [
      "Allocating buffers...\n",
      "Buffers allocated.\n"
     ]
    }
   ],
   "source": [
    "from pynq import allocate\n",
    "\n",
    "print(\"Allocating buffers...\")\n",
    "# Allocate buffers\n",
    "input_buffer = allocate(shape=(1*32*32,), dtype='f4')\n",
    "weights_buffer = allocate(shape=(6*1*5*5,), dtype='f4')\n",
    "bias_buffer = allocate(shape=(6,), dtype='f4')\n",
    "output_buffer = allocate(shape=(6*28*28,), dtype='f4')\n",
    "print(\"Buffers allocated.\")"
   ]
  },
  {
   "cell_type": "code",
   "execution_count": 5,
   "id": "96bb3a6b-ebd2-4984-815d-e234a5d7ab85",
   "metadata": {},
   "outputs": [
    {
     "name": "stdout",
     "output_type": "stream",
     "text": [
      "Copying data to buffers...\n",
      "Syncing buffers to the device...\n",
      "Buffers synced to the device.\n"
     ]
    }
   ],
   "source": [
    "import numpy as np\n",
    "\n",
    "print(\"Copying data to buffers...\")\n",
    "# Copy data to buffers\n",
    "np.copyto(input_buffer, input_data.flatten())\n",
    "np.copyto(weights_buffer, weights_data.flatten())\n",
    "np.copyto(bias_buffer, bias_data)\n",
    "\n",
    "print(\"Syncing buffers to the device...\")\n",
    "# Sync data to the device\n",
    "input_buffer.sync_to_device()\n",
    "weights_buffer.sync_to_device()\n",
    "bias_buffer.sync_to_device()\n",
    "print(\"Buffers synced to the device.\")"
   ]
  },
  {
   "cell_type": "code",
   "execution_count": 6,
   "id": "4325d9dd-0271-4e9e-8baa-68b1ed5e37a5",
   "metadata": {},
   "outputs": [
    {
     "data": {
      "text/plain": [
       "RegisterMap {\n",
       "  input_r_1 = Register(input_r=write-only),\n",
       "  input_r_2 = Register(input_r=write-only),\n",
       "  weights_1 = Register(weights=write-only),\n",
       "  weights_2 = Register(weights=write-only),\n",
       "  bias_1 = Register(bias=write-only),\n",
       "  bias_2 = Register(bias=write-only),\n",
       "  output_r_1 = Register(output_r=write-only),\n",
       "  output_r_2 = Register(output_r=write-only)\n",
       "}"
      ]
     },
     "execution_count": 6,
     "metadata": {},
     "output_type": "execute_result"
    }
   ],
   "source": [
    "conv_hw.register_map"
   ]
  },
  {
   "cell_type": "code",
   "execution_count": 7,
   "id": "c333f324-66a0-4f64-8d4d-aab2c0e4fe9b",
   "metadata": {},
   "outputs": [
    {
     "name": "stdout",
     "output_type": "stream",
     "text": [
      "Writing addresses to registers...\n",
      "Addresses written to registers.\n",
      "Input Address: 0x2883000\n",
      "Weights Address: 0x2B8E000\n",
      "Bias Address: 0x2B8F000\n",
      "Output Address: 0x375C0000\n"
     ]
    }
   ],
   "source": [
    "print(\"Writing addresses to registers...\")\n",
    "# Write memory addresses to the registers\n",
    "conv_hw.write(conv_hw.register_map.input_r_1.address, input_buffer.physical_address & 0xFFFFFFFF)\n",
    "conv_hw.write(conv_hw.register_map.input_r_2.address, (input_buffer.physical_address >> 32) & 0xFFFFFFFF)\n",
    "conv_hw.write(conv_hw.register_map.weights_1.address, weights_buffer.physical_address & 0xFFFFFFFF)\n",
    "conv_hw.write(conv_hw.register_map.weights_2.address, (weights_buffer.physical_address >> 32) & 0xFFFFFFFF)\n",
    "conv_hw.write(conv_hw.register_map.bias_1.address, bias_buffer.physical_address & 0xFFFFFFFF)\n",
    "conv_hw.write(conv_hw.register_map.bias_2.address, (bias_buffer.physical_address >> 32) & 0xFFFFFFFF)\n",
    "conv_hw.write(conv_hw.register_map.output_r_1.address, output_buffer.physical_address & 0xFFFFFFFF)\n",
    "conv_hw.write(conv_hw.register_map.output_r_2.address, (output_buffer.physical_address >> 32) & 0xFFFFFFFF)\n",
    "print(\"Addresses written to registers.\")\n",
    "\n",
    "print(f\"Input Address: 0x{input_buffer.physical_address:X}\")\n",
    "print(f\"Weights Address: 0x{weights_buffer.physical_address:X}\")\n",
    "print(f\"Bias Address: 0x{bias_buffer.physical_address:X}\")\n",
    "print(f\"Output Address: 0x{output_buffer.physical_address:X}\")"
   ]
  },
  {
   "cell_type": "code",
   "execution_count": 12,
   "id": "2597e563-97ab-4f92-90e3-59df53b8aec8",
   "metadata": {},
   "outputs": [
    {
     "name": "stdout",
     "output_type": "stream",
     "text": [
      "Starting hardware execution...\n",
      "Hardware execution completed successfully.\n",
      "Hardware execution completed successfully.\n",
      "Hardware execution completed successfully.\n",
      "Hardware execution completed successfully.\n",
      "Hardware execution completed successfully.\n",
      "Hardware execution completed successfully.\n",
      "Hardware execution completed successfully.\n",
      "Hardware execution completed successfully.\n",
      "Hardware execution completed successfully.\n",
      "Hardware execution completed successfully.\n",
      "Hardware execution completed successfully.\n",
      "Hardware execution completed successfully.\n",
      "Hardware execution completed successfully.\n",
      "Hardware execution completed successfully.\n",
      "Hardware execution completed successfully.\n",
      "Hardware execution completed successfully.\n",
      "Hardware execution completed successfully.\n",
      "Hardware execution completed successfully.\n",
      "Hardware execution completed successfully.\n",
      "Hardware execution completed successfully.\n",
      "Hardware execution completed successfully.\n",
      "Hardware execution completed successfully.\n",
      "Hardware execution completed successfully.\n",
      "Hardware execution completed successfully.\n",
      "Hardware execution completed successfully.\n",
      "Hardware execution completed successfully.\n",
      "Hardware execution completed successfully.\n",
      "Hardware execution completed successfully.\n",
      "Hardware execution completed successfully.\n",
      "Hardware execution completed successfully.\n",
      "Hardware execution completed successfully.\n",
      "Hardware execution completed successfully.\n",
      "Hardware execution completed successfully.\n",
      "Hardware execution completed successfully.\n",
      "Hardware execution completed successfully.\n",
      "Hardware execution completed successfully.\n",
      "Hardware execution completed successfully.\n",
      "Hardware execution completed successfully.\n",
      "Hardware execution completed successfully.\n",
      "Hardware execution completed successfully.\n",
      "Hardware execution completed successfully.\n",
      "Hardware execution completed successfully.\n",
      "Hardware execution completed successfully.\n",
      "Hardware execution completed successfully.\n",
      "Hardware execution completed successfully.\n",
      "Hardware execution completed successfully.\n",
      "Hardware execution completed successfully.\n",
      "Hardware execution completed successfully.\n",
      "Hardware execution completed successfully.\n",
      "Hardware execution completed successfully.\n",
      "Hardware execution completed successfully.\n",
      "Hardware execution completed successfully.\n",
      "Hardware execution completed successfully.\n",
      "Hardware execution completed successfully.\n",
      "Hardware execution completed successfully.\n",
      "Hardware execution completed successfully.\n",
      "Hardware execution completed successfully.\n",
      "Hardware execution completed successfully.\n",
      "Hardware execution completed successfully.\n",
      "Hardware execution completed successfully.\n",
      "Hardware execution completed successfully.\n",
      "Hardware execution completed successfully.\n",
      "Hardware execution completed successfully.\n",
      "Hardware execution completed successfully.\n",
      "Hardware execution completed successfully.\n",
      "Hardware execution completed successfully.\n",
      "Hardware execution completed successfully.\n",
      "Hardware execution completed successfully.\n",
      "Hardware execution completed successfully.\n",
      "Hardware execution completed successfully.\n",
      "Hardware execution completed successfully.\n",
      "Hardware execution completed successfully.\n",
      "Hardware execution completed successfully.\n",
      "Hardware execution completed successfully.\n",
      "Hardware execution completed successfully.\n",
      "Hardware execution completed successfully.\n",
      "Hardware execution completed successfully.\n",
      "Hardware execution completed successfully.\n",
      "Hardware execution completed successfully.\n",
      "Hardware execution completed successfully.\n",
      "Hardware execution completed successfully.\n",
      "Hardware execution completed successfully.\n",
      "Hardware execution completed successfully.\n",
      "Hardware execution completed successfully.\n",
      "Hardware execution completed successfully.\n",
      "Hardware execution completed successfully.\n",
      "Hardware execution completed successfully.\n",
      "Hardware execution completed successfully.\n",
      "Hardware execution completed successfully.\n",
      "Hardware execution completed successfully.\n",
      "Hardware execution completed successfully.\n",
      "Hardware execution completed successfully.\n",
      "Hardware execution completed successfully.\n",
      "Hardware execution completed successfully.\n",
      "Hardware execution completed successfully.\n",
      "Hardware execution completed successfully.\n",
      "Hardware execution completed successfully.\n",
      "Hardware execution completed successfully.\n",
      "Hardware execution completed successfully.\n",
      "Hardware execution completed successfully.\n",
      "ERROR: Timeout waiting for hardware to complete.\n",
      "End passing\n"
     ]
    }
   ],
   "source": [
    "input_buffer.sync_to_device()\n",
    "weights_buffer.sync_to_device()\n",
    "bias_buffer.sync_to_device()\n",
    "timeout_counter = 0\n",
    "max_timeout = 100\n",
    "print(\"Starting hardware execution...\")\n",
    "# Start the computation\n",
    "conv_hw.write(0x00, 0x01)\n",
    "\n",
    "while conv_hw.read(0x00) & 0x2 == 0:\n",
    "    timeout_counter += 1\n",
    "    if timeout_counter > max_timeout:\n",
    "        print(\"ERROR: Timeout waiting for hardware to complete.\")\n",
    "        break\n",
    "    if timeout_counter <= max_timeout:\n",
    "        print(\"Hardware execution completed successfully.\")\n",
    "        pass\n",
    "\n",
    "output_buffer.sync_from_device()\n",
    "print(\"End passing\")"
   ]
  },
  {
   "cell_type": "code",
   "execution_count": 14,
   "id": "0b39ed65-2b65-4d75-9257-118f8ab8162e",
   "metadata": {},
   "outputs": [
    {
     "name": "stdout",
     "output_type": "stream",
     "text": [
      "Waiting for hardware to complete...\n",
      "HW mul (baseline) exe time: 0.0004646778106689453s\n",
      "Hardware execution completed.\n",
      "Syncing output from the device...\n",
      "Output synced from the device.\n",
      "Performing software validation...\n",
      "Software validation completed.\n",
      "Test Case 5: Max Difference = 25.000000\n",
      "Test Case 5: Finished.\n",
      "\n",
      "All test cases completed.\n",
      "Some test cases failed validation.\n"
     ]
    }
   ],
   "source": [
    "import numpy as np\n",
    "import time\n",
    "from pynq import Overlay, allocate\n",
    "\n",
    "# Wait for completion\n",
    "print(\"Waiting for hardware to complete...\")\n",
    "start_time = time.time()\n",
    "while True:\n",
    "    reg = conv_hw.read(0x00)\n",
    "    if reg != 1:\n",
    "        break\n",
    "end_time = time.time()\n",
    "print(\"HW mul (baseline) exe time: {}s\".format(end_time - start_time))\n",
    "print(\"Hardware execution completed.\")\n",
    "\n",
    "print(\"Syncing output from the device...\")\n",
    "# Sync the output from the device\n",
    "\n",
    "output_hw = output_buffer.reshape(output_dim)\n",
    "print(\"Output synced from the device.\")\n",
    "\n",
    "print(\"Performing software validation...\")\n",
    "# Software simulation for validation\n",
    "output_sw = np.zeros(output_dim, dtype='f4')\n",
    "for co in range(6):\n",
    "    for h in range(28):\n",
    "        for w in range(28):\n",
    "            patch = input_data[0, h:h+5, w:w+5]\n",
    "            output_sw[co, h, w] = np.sum(weights_data[co, 0] * patch) + bias_data[co]\n",
    "print(\"Software validation completed.\")\n",
    "\n",
    "# Validate the results\n",
    "diff = np.abs(output_hw - output_sw)\n",
    "max_diff = np.max(diff)\n",
    "test_results.append(max_diff)\n",
    "print(f\"Test Case {test_id + 1}: Max Difference = {max_diff:.6f}\")\n",
    "\n",
    "# Release buffers\n",
    "input_buffer.close()\n",
    "weights_buffer.close()\n",
    "bias_buffer.close()\n",
    "output_buffer.close()\n",
    "print(f\"Test Case {test_id + 1}: Finished.\\n\")\n",
    "\n",
    "# Summary\n",
    "print(\"All test cases completed.\")\n",
    "if all(diff < 1e-5 for diff in test_results):\n",
    "    print(\"All tests passed.\")\n"
   ]
  },
  {
   "cell_type": "code",
   "execution_count": null,
   "id": "1ff543db-3d90-4ac9-b5ee-14ba5d493a57",
   "metadata": {},
   "outputs": [],
   "source": []
  }
 ],
 "metadata": {
  "kernelspec": {
   "display_name": "Python 3 (ipykernel)",
   "language": "python",
   "name": "python3"
  },
  "language_info": {
   "codemirror_mode": {
    "name": "ipython",
    "version": 3
   },
   "file_extension": ".py",
   "mimetype": "text/x-python",
   "name": "python",
   "nbconvert_exporter": "python",
   "pygments_lexer": "ipython3",
   "version": "3.10.12"
  }
 },
 "nbformat": 4,
 "nbformat_minor": 5
}
