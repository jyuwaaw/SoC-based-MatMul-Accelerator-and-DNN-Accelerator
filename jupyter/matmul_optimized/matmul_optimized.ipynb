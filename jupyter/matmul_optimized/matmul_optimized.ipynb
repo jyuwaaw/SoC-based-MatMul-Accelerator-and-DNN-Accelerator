{
 "cells": [
  {
   "cell_type": "code",
   "execution_count": 18,
   "id": "b8d3e8b4-4141-4aab-9711-773b4cda4acc",
   "metadata": {
    "extensions": {
     "jupyter_dashboards": {
      "activeView": "grid_default",
      "views": {
       "grid_default": {
        "col": null,
        "height": 2,
        "hidden": true,
        "locked": true,
        "row": null,
        "width": 2
       }
      }
     }
    }
   },
   "outputs": [
    {
     "name": "stdout",
     "output_type": "stream",
     "text": [
      "/root/jupyter_notebooks/getting_started/matmul_optimized\n"
     ]
    }
   ],
   "source": [
    "import numpy as np\n",
    "import os\n",
    "print(os.getcwd())\n",
    "\n",
    "# If your loaded arrays have only 10,000 test cases, set num_test_cases accordingly\n",
    "num_test_cases = 10000\n",
    "dim0 = 16\n",
    "\n",
    "test_cases_act = np.load(\"../test_cases_act.npy\")\n",
    "test_cases_w = np.load(\"../test_cases_w.npy\")\n",
    "\n",
    "# Ensure that num_test_cases does not exceed the size of the loaded arrays\n",
    "num_test_cases = min(num_test_cases, test_cases_act.shape[0], test_cases_w.shape[0])\n",
    "\n",
    "for i in range(num_test_cases):\n",
    "    in1 = test_cases_act[i]\n",
    "    in2 = test_cases_w[i]\n",
    "    # Process the test cases as needed\n"
   ]
  },
  {
   "cell_type": "code",
   "execution_count": 19,
   "id": "5c74cc23-73b0-4efa-b003-27aa869e52b9",
   "metadata": {
    "extensions": {
     "jupyter_dashboards": {
      "activeView": "grid_default",
      "views": {
       "grid_default": {
        "col": null,
        "height": 2,
        "hidden": true,
        "locked": true,
        "row": null,
        "width": 2
       }
      }
     }
    }
   },
   "outputs": [],
   "source": [
    "in1_py = np.resize(in1, (16,16))\n",
    "in2_py = np.resize(in2, (16,16))"
   ]
  },
  {
   "cell_type": "code",
   "execution_count": 20,
   "id": "e1713c74-9f34-42a6-b341-80ea0a32d8bd",
   "metadata": {
    "extensions": {
     "jupyter_dashboards": {
      "activeView": "grid_default",
      "views": {
       "grid_default": {
        "col": null,
        "height": 2,
        "hidden": true,
        "locked": true,
        "row": null,
        "width": 2
       }
      }
     }
    }
   },
   "outputs": [
    {
     "name": "stdout",
     "output_type": "stream",
     "text": [
      "SW matrix mul exe time: 0.0010900497436523438s\n"
     ]
    }
   ],
   "source": [
    "import time\n",
    "start_time = time.time()\n",
    "out_py = np.dot(in1_py,in2_py)\n",
    "end_time = time.time()\n",
    "python_time = end_time - start_time\n",
    "print(\"SW matrix mul exe time: {}s\".format(end_time - start_time))"
   ]
  },
  {
   "cell_type": "code",
   "execution_count": 21,
   "id": "c23eccd5-0dc2-4131-8980-1d6810e116d5",
   "metadata": {
    "extensions": {
     "jupyter_dashboards": {
      "activeView": "grid_default",
      "views": {
       "grid_default": {
        "col": null,
        "height": 2,
        "hidden": true,
        "locked": true,
        "row": null,
        "width": 2
       }
      }
     }
    }
   },
   "outputs": [],
   "source": [
    "#print(\"the result of software matmul: \", out_py)"
   ]
  },
  {
   "cell_type": "code",
   "execution_count": null,
   "id": "e1c9fa03-59c2-4d64-9b41-b05bfbe99b09",
   "metadata": {
    "extensions": {
     "jupyter_dashboards": {
      "activeView": "grid_default",
      "views": {
       "grid_default": {
        "col": null,
        "height": 2,
        "hidden": true,
        "locked": true,
        "row": null,
        "width": 2
       }
      }
     }
    },
    "tags": []
   },
   "outputs": [],
   "source": [
    "from pynq import Overlay\n",
    "overlay_baseline = Overlay(\"matmult_optimized.bit\")\n",
    "baseline = overlay_baseline.matmul_optimized_0"
   ]
  },
  {
   "cell_type": "code",
   "execution_count": null,
   "id": "e3e858b6-8ed5-4298-a779-03b76a26c680",
   "metadata": {},
   "outputs": [],
   "source": [
    "from pynq import allocate\n",
    "input1_buffer0 = allocate(shape=(dim0*dim0,), dtype='f4')\n",
    "input2_buffer0 = allocate(shape=(dim0*dim0,), dtype='f4')\n",
    "output_buffer0 = allocate(shape=(dim0*dim0,), dtype='f4')"
   ]
  },
  {
   "cell_type": "code",
   "execution_count": null,
   "id": "8c1c6cbb-1b54-4cd6-961e-ad6abc980a26",
   "metadata": {},
   "outputs": [],
   "source": [
    "np.copyto(input1_buffer0, in1.flatten())\n",
    "np.copyto(input2_buffer0, in2.flatten())\n",
    "\n",
    "#print(\"input1_buffer0:\", input1_buffer0)\n",
    "#print(\"input2_buffer0:\", input2_buffer0)\n",
    "#print(\"output_buffer0:\", output_buffer0)"
   ]
  },
  {
   "cell_type": "code",
   "execution_count": null,
   "id": "2fce56f8-8032-4fc1-8eb3-63d7f0460700",
   "metadata": {},
   "outputs": [],
   "source": [
    "input1_buffer0.sync_to_device()\n",
    "input2_buffer0.sync_to_device()\n",
    "\n",
    "#print(\"input1_buffer0:\", input1_buffer0)\n",
    "#print(\"input2_buffer0:\", input2_buffer0)"
   ]
  },
  {
   "cell_type": "code",
   "execution_count": null,
   "id": "1fd7648a-d8e8-4bbf-bfd7-767ebf382566",
   "metadata": {},
   "outputs": [],
   "source": [
    "baseline.register_map"
   ]
  },
  {
   "cell_type": "code",
   "execution_count": null,
   "id": "7d1ae04c-1cbf-4704-81df-3355d9831268",
   "metadata": {},
   "outputs": [],
   "source": [
    "baseline.register_map.B_1.address"
   ]
  },
  {
   "cell_type": "code",
   "execution_count": null,
   "id": "bbd7ca0a-5d34-4b93-b666-3861e4aa3ccb",
   "metadata": {},
   "outputs": [],
   "source": [
    "# Write A address (low and high)\n",
    "baseline.write(baseline.register_map.A_1.address, input1_buffer0.physical_address & 0xFFFFFFFF)\n",
    "baseline.write(baseline.register_map.A_2.address, (input1_buffer0.physical_address >> 32) & 0xFFFFFFFF)\n",
    "\n",
    "# Write B address (low and high)\n",
    "baseline.write(baseline.register_map.B_1.address, input2_buffer0.physical_address & 0xFFFFFFFF)\n",
    "baseline.write(baseline.register_map.B_2.address, (input2_buffer0.physical_address >> 32) & 0xFFFFFFFF)\n",
    "\n",
    "# Write AB address (low and high)\n",
    "baseline.write(baseline.register_map.AB_1.address, output_buffer0.physical_address & 0xFFFFFFFF)\n",
    "baseline.write(baseline.register_map.AB_2.address, (output_buffer0.physical_address >> 32) & 0xFFFFFFFF)"
   ]
  },
  {
   "cell_type": "code",
   "execution_count": null,
   "id": "3e4027a3-8730-4b80-8527-59efdfa29e3b",
   "metadata": {},
   "outputs": [],
   "source": [
    "input1_buffer0.sync_to_device()\n",
    "input2_buffer0.sync_to_device()\n",
    "\n",
    "# Start the IP\n",
    "baseline.write(0x00, 0x01)\n",
    "\n",
    "# Wait for AP_DONE\n",
    "while (baseline.read(0x00) & 0x2) == 0:\n",
    "    pass\n",
    "\n",
    "output_buffer0.sync_from_device()"
   ]
  },
  {
   "cell_type": "code",
   "execution_count": null,
   "id": "0a31985d-a026-423d-9a87-fa1f45137c1d",
   "metadata": {},
   "outputs": [],
   "source": [
    "baseline.write(0x00, 0x01)\n",
    "start_time = time.time()\n",
    "while True:\n",
    "    reg = baseline.read(0x00)\n",
    "    if reg != 1:\n",
    "        break\n",
    "end_time = time.time()\n",
    "baseline_time = end_time - start_time\n",
    "print(\"HW mul (baseline) exe time: {}s\".format(end_time - start_time))"
   ]
  },
  {
   "cell_type": "code",
   "execution_count": null,
   "id": "6a16ac6f-d11e-4494-ac76-0f4a03cb8a14",
   "metadata": {},
   "outputs": [],
   "source": [
    "output_buffer0.sync_from_device()\n",
    "#print(\"output_buffer0:\", output_buffer0)"
   ]
  },
  {
   "cell_type": "code",
   "execution_count": null,
   "id": "a7329011-413c-4c50-96dc-5187abe463b5",
   "metadata": {},
   "outputs": [],
   "source": [
    "#output_buffer0"
   ]
  },
  {
   "cell_type": "code",
   "execution_count": null,
   "id": "6702e6eb-90bb-4a77-9612-bbea96e40478",
   "metadata": {},
   "outputs": [],
   "source": [
    "out_hw = output_buffer0.reshape((dim0, dim0))\n",
    "\n",
    "#print(\"Hardware result:\\n\", out_hw)\n",
    "#print(\"Software result:\\n\", out_py)\n",
    "\n",
    "# Compare results\n",
    "diff = np.abs(out_hw - out_py)\n",
    "max_diff = np.max(diff)\n",
    "print(f\"Test Case {test_cases_act + 1}: Max Difference = {max_diff}\")"
   ]
  },
  {
   "cell_type": "code",
   "execution_count": null,
   "id": "2fc43378-a9d5-4f03-a566-52c431eba365",
   "metadata": {},
   "outputs": [],
   "source": []
  }
 ],
 "metadata": {
  "extensions": {
   "jupyter_dashboards": {
    "activeView": "grid_default",
    "version": 1,
    "views": {
     "grid_default": {
      "cellMargin": 2,
      "defaultCellHeight": 40,
      "maxColumns": 12,
      "name": "grid",
      "type": "grid"
     }
    }
   }
  },
  "kernelspec": {
   "display_name": "Python 3 (ipykernel)",
   "language": "python",
   "name": "python3"
  },
  "language_info": {
   "codemirror_mode": {
    "name": "ipython",
    "version": 3
   },
   "file_extension": ".py",
   "mimetype": "text/x-python",
   "name": "python",
   "nbconvert_exporter": "python",
   "pygments_lexer": "ipython3",
   "version": "3.10.12"
  }
 },
 "nbformat": 4,
 "nbformat_minor": 5
}
