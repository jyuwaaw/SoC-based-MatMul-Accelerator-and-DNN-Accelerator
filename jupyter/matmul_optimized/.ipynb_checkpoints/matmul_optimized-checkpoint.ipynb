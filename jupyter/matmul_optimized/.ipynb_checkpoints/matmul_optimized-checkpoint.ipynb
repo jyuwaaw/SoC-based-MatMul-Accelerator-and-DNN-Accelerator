{
 "cells": [
  {
   "cell_type": "code",
   "execution_count": 1,
   "id": "b8d3e8b4-4141-4aab-9711-773b4cda4acc",
   "metadata": {
    "extensions": {
     "jupyter_dashboards": {
      "activeView": "grid_default",
      "views": {
       "grid_default": {
        "col": null,
        "height": 2,
        "hidden": true,
        "locked": true,
        "row": null,
        "width": 2
       }
      }
     }
    }
   },
   "outputs": [
    {
     "name": "stdout",
     "output_type": "stream",
     "text": [
      "/root/jupyter_notebooks/getting_started/matmul_optimized\n"
     ]
    }
   ],
   "source": [
    "import numpy as np\n",
    "import os\n",
    "print(os.getcwd())\n",
    "\n",
    "# If your loaded arrays have only 10,000 test cases, set num_test_cases accordingly\n",
    "num_test_cases = 10000\n",
    "dim0 = 16\n",
    "\n",
    "test_cases_act = np.load(\"../test_cases_act.npy\")\n",
    "test_cases_w = np.load(\"../test_cases_w.npy\")\n",
    "\n",
    "# Ensure that num_test_cases does not exceed the size of the loaded arrays\n",
    "num_test_cases = min(num_test_cases, test_cases_act.shape[0], test_cases_w.shape[0])\n",
    "\n",
    "for i in range(num_test_cases):\n",
    "    in1 = test_cases_act[i]\n",
    "    in2 = test_cases_w[i]\n",
    "    # Process the test cases as needed\n"
   ]
  },
  {
   "cell_type": "code",
   "execution_count": 2,
   "id": "5c74cc23-73b0-4efa-b003-27aa869e52b9",
   "metadata": {
    "extensions": {
     "jupyter_dashboards": {
      "activeView": "grid_default",
      "views": {
       "grid_default": {
        "col": null,
        "height": 2,
        "hidden": true,
        "locked": true,
        "row": null,
        "width": 2
       }
      }
     }
    }
   },
   "outputs": [],
   "source": [
    "in1_py = np.resize(in1, (16,16))\n",
    "in2_py = np.resize(in2, (16,16))"
   ]
  },
  {
   "cell_type": "code",
   "execution_count": 3,
   "id": "e1713c74-9f34-42a6-b341-80ea0a32d8bd",
   "metadata": {
    "extensions": {
     "jupyter_dashboards": {
      "activeView": "grid_default",
      "views": {
       "grid_default": {
        "col": null,
        "height": 2,
        "hidden": true,
        "locked": true,
        "row": null,
        "width": 2
       }
      }
     }
    }
   },
   "outputs": [
    {
     "name": "stdout",
     "output_type": "stream",
     "text": [
      "SW matrix mul exe time: 0.01068735122680664s\n"
     ]
    }
   ],
   "source": [
    "import time\n",
    "start_time = time.time()\n",
    "out_py = np.dot(in1_py,in2_py)\n",
    "end_time = time.time()\n",
    "python_time = end_time - start_time\n",
    "print(\"SW matrix mul exe time: {}s\".format(end_time - start_time))"
   ]
  },
  {
   "cell_type": "code",
   "execution_count": 4,
   "id": "c23eccd5-0dc2-4131-8980-1d6810e116d5",
   "metadata": {
    "extensions": {
     "jupyter_dashboards": {
      "activeView": "grid_default",
      "views": {
       "grid_default": {
        "col": null,
        "height": 2,
        "hidden": true,
        "locked": true,
        "row": null,
        "width": 2
       }
      }
     }
    }
   },
   "outputs": [],
   "source": [
    "#print(\"the result of software matmul: \", out_py)"
   ]
  },
  {
   "cell_type": "code",
   "execution_count": 5,
   "id": "e1c9fa03-59c2-4d64-9b41-b05bfbe99b09",
   "metadata": {
    "extensions": {
     "jupyter_dashboards": {
      "activeView": "grid_default",
      "views": {
       "grid_default": {
        "col": null,
        "height": 2,
        "hidden": true,
        "locked": true,
        "row": null,
        "width": 2
       }
      }
     }
    },
    "tags": []
   },
   "outputs": [
    {
     "data": {
      "application/javascript": [
       "\n",
       "try {\n",
       "require(['notebook/js/codecell'], function(codecell) {\n",
       "  codecell.CodeCell.options_default.highlight_modes[\n",
       "      'magic_text/x-csrc'] = {'reg':[/^%%microblaze/]};\n",
       "  Jupyter.notebook.events.one('kernel_ready.Kernel', function(){\n",
       "      Jupyter.notebook.get_cells().map(function(cell){\n",
       "          if (cell.cell_type == 'code'){ cell.auto_highlight(); } }) ;\n",
       "  });\n",
       "});\n",
       "} catch (e) {};\n"
      ]
     },
     "metadata": {},
     "output_type": "display_data"
    },
    {
     "data": {
      "application/javascript": [
       "\n",
       "try {\n",
       "require(['notebook/js/codecell'], function(codecell) {\n",
       "  codecell.CodeCell.options_default.highlight_modes[\n",
       "      'magic_text/x-csrc'] = {'reg':[/^%%pybind11/]};\n",
       "  Jupyter.notebook.events.one('kernel_ready.Kernel', function(){\n",
       "      Jupyter.notebook.get_cells().map(function(cell){\n",
       "          if (cell.cell_type == 'code'){ cell.auto_highlight(); } }) ;\n",
       "  });\n",
       "});\n",
       "} catch (e) {};\n"
      ]
     },
     "metadata": {},
     "output_type": "display_data"
    }
   ],
   "source": [
    "from pynq import Overlay\n",
    "overlay_baseline = Overlay(\"matmult_optimized.bit\")\n",
    "baseline = overlay_baseline.matmul_optimized_0"
   ]
  },
  {
   "cell_type": "code",
   "execution_count": 6,
   "id": "e3e858b6-8ed5-4298-a779-03b76a26c680",
   "metadata": {},
   "outputs": [],
   "source": [
    "from pynq import allocate\n",
    "input1_buffer0 = allocate(shape=(dim0*dim0,), dtype='f4')\n",
    "input2_buffer0 = allocate(shape=(dim0*dim0,), dtype='f4')\n",
    "output_buffer0 = allocate(shape=(dim0*dim0,), dtype='f4')"
   ]
  },
  {
   "cell_type": "code",
   "execution_count": 7,
   "id": "8c1c6cbb-1b54-4cd6-961e-ad6abc980a26",
   "metadata": {},
   "outputs": [],
   "source": [
    "np.copyto(input1_buffer0, in1.flatten())\n",
    "np.copyto(input2_buffer0, in2.flatten())\n",
    "\n",
    "#print(\"input1_buffer0:\", input1_buffer0)\n",
    "#print(\"input2_buffer0:\", input2_buffer0)\n",
    "#print(\"output_buffer0:\", output_buffer0)"
   ]
  },
  {
   "cell_type": "code",
   "execution_count": 8,
   "id": "2fce56f8-8032-4fc1-8eb3-63d7f0460700",
   "metadata": {},
   "outputs": [],
   "source": [
    "input1_buffer0.sync_to_device()\n",
    "input2_buffer0.sync_to_device()\n",
    "\n",
    "#print(\"input1_buffer0:\", input1_buffer0)\n",
    "#print(\"input2_buffer0:\", input2_buffer0)"
   ]
  },
  {
   "cell_type": "code",
   "execution_count": 9,
   "id": "1fd7648a-d8e8-4bbf-bfd7-767ebf382566",
   "metadata": {},
   "outputs": [
    {
     "data": {
      "text/plain": [
       "RegisterMap {\n",
       "  CTRL = Register(AP_START=0, AP_DONE=0, AP_IDLE=1, AP_READY=0, RESERVED_1=0, AUTO_RESTART=0, RESERVED_2=0, INTERRUPT=0, RESERVED_3=0),\n",
       "  GIER = Register(Enable=0, RESERVED=0),\n",
       "  IP_IER = Register(CHAN0_INT_EN=0, CHAN1_INT_EN=0, RESERVED_0=0),\n",
       "  IP_ISR = Register(CHAN0_INT_ST=0, CHAN1_INT_ST=0, RESERVED_0=0),\n",
       "  A_1 = Register(A=write-only),\n",
       "  A_2 = Register(A=write-only),\n",
       "  B_1 = Register(B=write-only),\n",
       "  B_2 = Register(B=write-only),\n",
       "  AB_1 = Register(AB=write-only),\n",
       "  AB_2 = Register(AB=write-only)\n",
       "}"
      ]
     },
     "execution_count": 9,
     "metadata": {},
     "output_type": "execute_result"
    }
   ],
   "source": [
    "baseline.register_map"
   ]
  },
  {
   "cell_type": "code",
   "execution_count": 10,
   "id": "7d1ae04c-1cbf-4704-81df-3355d9831268",
   "metadata": {},
   "outputs": [
    {
     "data": {
      "text/plain": [
       "28"
      ]
     },
     "execution_count": 10,
     "metadata": {},
     "output_type": "execute_result"
    }
   ],
   "source": [
    "baseline.register_map.B_1.address"
   ]
  },
  {
   "cell_type": "code",
   "execution_count": 11,
   "id": "bbd7ca0a-5d34-4b93-b666-3861e4aa3ccb",
   "metadata": {},
   "outputs": [
    {
     "ename": "AttributeError",
     "evalue": "'RegisterMapmatmul_optimized_0' object has no attribute 'Out_r_1'",
     "output_type": "error",
     "traceback": [
      "\u001b[0;31m---------------------------------------------------------------------------\u001b[0m",
      "\u001b[0;31mAttributeError\u001b[0m                            Traceback (most recent call last)",
      "Input \u001b[0;32mIn [11]\u001b[0m, in \u001b[0;36m<cell line: 10>\u001b[0;34m()\u001b[0m\n\u001b[1;32m      7\u001b[0m baseline\u001b[38;5;241m.\u001b[39mwrite(baseline\u001b[38;5;241m.\u001b[39mregister_map\u001b[38;5;241m.\u001b[39mB_2\u001b[38;5;241m.\u001b[39maddress, (input2_buffer0\u001b[38;5;241m.\u001b[39mphysical_address \u001b[38;5;241m>>\u001b[39m \u001b[38;5;241m32\u001b[39m) \u001b[38;5;241m&\u001b[39m \u001b[38;5;241m0xFFFFFFFF\u001b[39m)\n\u001b[1;32m      9\u001b[0m \u001b[38;5;66;03m# Write AB address (low and high)\u001b[39;00m\n\u001b[0;32m---> 10\u001b[0m baseline\u001b[38;5;241m.\u001b[39mwrite(\u001b[43mbaseline\u001b[49m\u001b[38;5;241;43m.\u001b[39;49m\u001b[43mregister_map\u001b[49m\u001b[38;5;241;43m.\u001b[39;49m\u001b[43mOut_r_1\u001b[49m\u001b[38;5;241m.\u001b[39maddress, output_buffer0\u001b[38;5;241m.\u001b[39mphysical_address \u001b[38;5;241m&\u001b[39m \u001b[38;5;241m0xFFFFFFFF\u001b[39m)\n\u001b[1;32m     11\u001b[0m baseline\u001b[38;5;241m.\u001b[39mwrite(baseline\u001b[38;5;241m.\u001b[39mregister_map\u001b[38;5;241m.\u001b[39mOut_r_2\u001b[38;5;241m.\u001b[39maddress, (output_buffer0\u001b[38;5;241m.\u001b[39mphysical_address \u001b[38;5;241m>>\u001b[39m \u001b[38;5;241m32\u001b[39m) \u001b[38;5;241m&\u001b[39m \u001b[38;5;241m0xFFFFFFFF\u001b[39m)\n",
      "\u001b[0;31mAttributeError\u001b[0m: 'RegisterMapmatmul_optimized_0' object has no attribute 'Out_r_1'"
     ]
    }
   ],
   "source": [
    "# Write A address (low and high)\n",
    "baseline.write(baseline.register_map.A_1.address, input1_buffer0.physical_address & 0xFFFFFFFF)\n",
    "baseline.write(baseline.register_map.A_2.address, (input1_buffer0.physical_address >> 32) & 0xFFFFFFFF)\n",
    "\n",
    "# Write B address (low and high)\n",
    "baseline.write(baseline.register_map.B_1.address, input2_buffer0.physical_address & 0xFFFFFFFF)\n",
    "baseline.write(baseline.register_map.B_2.address, (input2_buffer0.physical_address >> 32) & 0xFFFFFFFF)\n",
    "\n",
    "# Write AB address (low and high)\n",
    "baseline.write(baseline.register_map.AB_1.address, output_buffer0.physical_address & 0xFFFFFFFF)\n",
    "baseline.write(baseline.register_map.AB_2.address, (output_buffer0.physical_address >> 32) & 0xFFFFFFFF)"
   ]
  },
  {
   "cell_type": "code",
   "execution_count": null,
   "id": "3e4027a3-8730-4b80-8527-59efdfa29e3b",
   "metadata": {},
   "outputs": [],
   "source": [
    "input1_buffer0.sync_to_device()\n",
    "input2_buffer0.sync_to_device()\n",
    "\n",
    "# Start the IP\n",
    "baseline.write(0x00, 0x01)\n",
    "\n",
    "# Wait for AP_DONE\n",
    "while (baseline.read(0x00) & 0x2) == 0:\n",
    "    pass\n",
    "\n",
    "output_buffer0.sync_from_device()"
   ]
  },
  {
   "cell_type": "code",
   "execution_count": null,
   "id": "0a31985d-a026-423d-9a87-fa1f45137c1d",
   "metadata": {},
   "outputs": [],
   "source": [
    "baseline.write(0x00, 0x01)\n",
    "start_time = time.time()\n",
    "while True:\n",
    "    reg = baseline.read(0x00)\n",
    "    if reg != 1:\n",
    "        break\n",
    "end_time = time.time()\n",
    "baseline_time = end_time - start_time\n",
    "print(\"HW mul (baseline) exe time: {}s\".format(end_time - start_time))"
   ]
  },
  {
   "cell_type": "code",
   "execution_count": null,
   "id": "6a16ac6f-d11e-4494-ac76-0f4a03cb8a14",
   "metadata": {},
   "outputs": [],
   "source": [
    "output_buffer0.sync_from_device()\n",
    "#print(\"output_buffer0:\", output_buffer0)"
   ]
  },
  {
   "cell_type": "code",
   "execution_count": null,
   "id": "a7329011-413c-4c50-96dc-5187abe463b5",
   "metadata": {},
   "outputs": [],
   "source": [
    "#output_buffer0"
   ]
  },
  {
   "cell_type": "code",
   "execution_count": null,
   "id": "6702e6eb-90bb-4a77-9612-bbea96e40478",
   "metadata": {},
   "outputs": [],
   "source": [
    "out_hw = output_buffer0.reshape((dim0, dim0))\n",
    "\n",
    "#print(\"Hardware result:\\n\", out_hw)\n",
    "#print(\"Software result:\\n\", out_py)\n",
    "\n",
    "# Compare results\n",
    "diff = np.abs(out_hw - out_py)\n",
    "max_diff = np.max(diff)\n",
    "print(f\"Test Case {test_cases_act + 1}: Max Difference = {max_diff}\")"
   ]
  },
  {
   "cell_type": "code",
   "execution_count": null,
   "id": "2fc43378-a9d5-4f03-a566-52c431eba365",
   "metadata": {},
   "outputs": [],
   "source": []
  }
 ],
 "metadata": {
  "extensions": {
   "jupyter_dashboards": {
    "activeView": "grid_default",
    "version": 1,
    "views": {
     "grid_default": {
      "cellMargin": 2,
      "defaultCellHeight": 40,
      "maxColumns": 12,
      "name": "grid",
      "type": "grid"
     }
    }
   }
  },
  "kernelspec": {
   "display_name": "Python 3 (ipykernel)",
   "language": "python",
   "name": "python3"
  },
  "language_info": {
   "codemirror_mode": {
    "name": "ipython",
    "version": 3
   },
   "file_extension": ".py",
   "mimetype": "text/x-python",
   "name": "python",
   "nbconvert_exporter": "python",
   "pygments_lexer": "ipython3",
   "version": "3.10.12"
  }
 },
 "nbformat": 4,
 "nbformat_minor": 5
}
