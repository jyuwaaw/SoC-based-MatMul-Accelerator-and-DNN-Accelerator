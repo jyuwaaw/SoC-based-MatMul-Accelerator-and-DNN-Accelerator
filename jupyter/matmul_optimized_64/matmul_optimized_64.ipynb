{
 "cells": [
  {
   "cell_type": "code",
   "execution_count": 1,
   "id": "b8d3e8b4-4141-4aab-9711-773b4cda4acc",
   "metadata": {
    "extensions": {
     "jupyter_dashboards": {
      "activeView": "grid_default",
      "views": {
       "grid_default": {
        "col": null,
        "height": 2,
        "hidden": true,
        "locked": true,
        "row": null,
        "width": 2
       }
      }
     }
    }
   },
   "outputs": [
    {
     "name": "stdout",
     "output_type": "stream",
     "text": [
      "/root/jupyter_notebooks/getting_started/matmul_optimized_64\n",
      "in1: [[0.18551987 0.55881405 0.06903154 ... 0.7836606  0.9759704  0.10005483]\n",
      " [0.58072215 0.36215404 0.7735819  ... 0.81800324 0.4928764  0.9667422 ]\n",
      " [0.40606168 0.47879776 0.78154486 ... 0.66722256 0.11370797 0.47025064]\n",
      " ...\n",
      " [0.16393428 0.7999948  0.30212393 ... 0.39355478 0.91294557 0.9175907 ]\n",
      " [0.5870255  0.31948033 0.34665135 ... 0.5582657  0.0195512  0.79026246]\n",
      " [0.9154149  0.03640583 0.75276977 ... 0.47996557 0.63580406 0.45229474]]\n",
      "in2: [[0.21619132 0.37853774 0.21801326 ... 0.07823552 0.6125641  0.38960606]\n",
      " [0.75060827 0.60506856 0.25092092 ... 0.5216007  0.28151667 0.3474155 ]\n",
      " [0.81571215 0.68858653 0.68913645 ... 0.0862569  0.3664147  0.2412752 ]\n",
      " ...\n",
      " [0.10239057 0.17770335 0.7781291  ... 0.3490614  0.3433643  0.29330888]\n",
      " [0.88543504 0.46614552 0.46715465 ... 0.6482386  0.05997119 0.62887746]\n",
      " [0.29001752 0.49429137 0.882026   ... 0.80744755 0.25104433 0.12207554]]\n"
     ]
    }
   ],
   "source": [
    "import numpy as np\n",
    "import os\n",
    "print(os.getcwd())\n",
    "\n",
    "dim0 = 64\n",
    "\n",
    "in1 = np.random.rand(dim0, dim0).astype(np.float32)\n",
    "in2 = np.random.rand(dim0, dim0).astype(np.float32)\n",
    "\n",
    "print(\"in1:\", in1)\n",
    "print(\"in2:\", in2)"
   ]
  },
  {
   "cell_type": "code",
   "execution_count": 2,
   "id": "5c74cc23-73b0-4efa-b003-27aa869e52b9",
   "metadata": {
    "extensions": {
     "jupyter_dashboards": {
      "activeView": "grid_default",
      "views": {
       "grid_default": {
        "col": null,
        "height": 2,
        "hidden": true,
        "locked": true,
        "row": null,
        "width": 2
       }
      }
     }
    }
   },
   "outputs": [],
   "source": [
    "in1_py = np.resize(in1, (64,64))\n",
    "in2_py = np.resize(in2, (64,64))"
   ]
  },
  {
   "cell_type": "code",
   "execution_count": 3,
   "id": "e1713c74-9f34-42a6-b341-80ea0a32d8bd",
   "metadata": {
    "extensions": {
     "jupyter_dashboards": {
      "activeView": "grid_default",
      "views": {
       "grid_default": {
        "col": null,
        "height": 2,
        "hidden": true,
        "locked": true,
        "row": null,
        "width": 2
       }
      }
     }
    }
   },
   "outputs": [
    {
     "name": "stdout",
     "output_type": "stream",
     "text": [
      "SW matrix mul exe time: 0.0016901493072509766s\n"
     ]
    }
   ],
   "source": [
    "import time\n",
    "start_time = time.time()\n",
    "out_py = np.dot(in1_py,in2_py)\n",
    "end_time = time.time()\n",
    "python_time = end_time - start_time\n",
    "print(\"SW matrix mul exe time: {}s\".format(end_time - start_time))"
   ]
  },
  {
   "cell_type": "code",
   "execution_count": 4,
   "id": "c23eccd5-0dc2-4131-8980-1d6810e116d5",
   "metadata": {
    "extensions": {
     "jupyter_dashboards": {
      "activeView": "grid_default",
      "views": {
       "grid_default": {
        "col": null,
        "height": 2,
        "hidden": true,
        "locked": true,
        "row": null,
        "width": 2
       }
      }
     }
    }
   },
   "outputs": [
    {
     "name": "stdout",
     "output_type": "stream",
     "text": [
      "the result of software matmul:  [[16.186634 15.095465 16.154686 ... 16.354357 14.952542 16.06986 ]\n",
      " [16.51513  17.769445 15.605106 ... 18.478514 15.45704  17.298456]\n",
      " [14.050013 15.466271 13.70028  ... 13.68868  13.435121 15.224033]\n",
      " ...\n",
      " [18.163101 17.869076 16.599476 ... 17.647184 15.95337  16.33484 ]\n",
      " [16.968243 17.295376 16.981222 ... 17.852009 14.485349 16.339268]\n",
      " [13.707981 15.05404  13.903966 ... 14.283077 14.542317 13.730874]]\n"
     ]
    }
   ],
   "source": [
    "print(\"the result of software matmul: \", out_py)"
   ]
  },
  {
   "cell_type": "code",
   "execution_count": 5,
   "id": "e1c9fa03-59c2-4d64-9b41-b05bfbe99b09",
   "metadata": {
    "extensions": {
     "jupyter_dashboards": {
      "activeView": "grid_default",
      "views": {
       "grid_default": {
        "col": null,
        "height": 2,
        "hidden": true,
        "locked": true,
        "row": null,
        "width": 2
       }
      }
     }
    },
    "tags": []
   },
   "outputs": [
    {
     "data": {
      "application/javascript": [
       "\n",
       "try {\n",
       "require(['notebook/js/codecell'], function(codecell) {\n",
       "  codecell.CodeCell.options_default.highlight_modes[\n",
       "      'magic_text/x-csrc'] = {'reg':[/^%%microblaze/]};\n",
       "  Jupyter.notebook.events.one('kernel_ready.Kernel', function(){\n",
       "      Jupyter.notebook.get_cells().map(function(cell){\n",
       "          if (cell.cell_type == 'code'){ cell.auto_highlight(); } }) ;\n",
       "  });\n",
       "});\n",
       "} catch (e) {};\n"
      ]
     },
     "metadata": {},
     "output_type": "display_data"
    },
    {
     "data": {
      "application/javascript": [
       "\n",
       "try {\n",
       "require(['notebook/js/codecell'], function(codecell) {\n",
       "  codecell.CodeCell.options_default.highlight_modes[\n",
       "      'magic_text/x-csrc'] = {'reg':[/^%%pybind11/]};\n",
       "  Jupyter.notebook.events.one('kernel_ready.Kernel', function(){\n",
       "      Jupyter.notebook.get_cells().map(function(cell){\n",
       "          if (cell.cell_type == 'code'){ cell.auto_highlight(); } }) ;\n",
       "  });\n",
       "});\n",
       "} catch (e) {};\n"
      ]
     },
     "metadata": {},
     "output_type": "display_data"
    }
   ],
   "source": [
    "from pynq import Overlay\n",
    "overlay_baseline = Overlay(\"matmult_optimized.bit\")\n",
    "baseline = overlay_baseline.matmul_optimized_0"
   ]
  },
  {
   "cell_type": "code",
   "execution_count": 6,
   "id": "e3e858b6-8ed5-4298-a779-03b76a26c680",
   "metadata": {},
   "outputs": [],
   "source": [
    "from pynq import allocate\n",
    "input1_buffer0 = allocate(shape=(dim0*dim0,), dtype='f4')\n",
    "input2_buffer0 = allocate(shape=(dim0*dim0,), dtype='f4')\n",
    "output_buffer0 = allocate(shape=(dim0*dim0,), dtype='f4')"
   ]
  },
  {
   "cell_type": "code",
   "execution_count": 7,
   "id": "8c1c6cbb-1b54-4cd6-961e-ad6abc980a26",
   "metadata": {},
   "outputs": [
    {
     "name": "stdout",
     "output_type": "stream",
     "text": [
      "input1_buffer0: [0.18551987 0.55881405 0.06903154 ... 0.47996557 0.63580406 0.45229474]\n",
      "input2_buffer0: [0.21619132 0.37853774 0.21801326 ... 0.80744755 0.25104433 0.12207554]\n",
      "output_buffer0: [0. 0. 0. ... 0. 0. 0.]\n"
     ]
    }
   ],
   "source": [
    "np.copyto(input1_buffer0, in1.flatten())\n",
    "np.copyto(input2_buffer0, in2.flatten())\n",
    "\n",
    "print(\"input1_buffer0:\", input1_buffer0)\n",
    "print(\"input2_buffer0:\", input2_buffer0)\n",
    "print(\"output_buffer0:\", output_buffer0)"
   ]
  },
  {
   "cell_type": "code",
   "execution_count": 8,
   "id": "2fce56f8-8032-4fc1-8eb3-63d7f0460700",
   "metadata": {},
   "outputs": [
    {
     "name": "stdout",
     "output_type": "stream",
     "text": [
      "input1_buffer0: [0.18551987 0.55881405 0.06903154 ... 0.47996557 0.63580406 0.45229474]\n",
      "input2_buffer0: [0.21619132 0.37853774 0.21801326 ... 0.80744755 0.25104433 0.12207554]\n"
     ]
    }
   ],
   "source": [
    "input1_buffer0.sync_to_device()\n",
    "input2_buffer0.sync_to_device()\n",
    "\n",
    "print(\"input1_buffer0:\", input1_buffer0)\n",
    "print(\"input2_buffer0:\", input2_buffer0)"
   ]
  },
  {
   "cell_type": "code",
   "execution_count": 9,
   "id": "1fd7648a-d8e8-4bbf-bfd7-767ebf382566",
   "metadata": {},
   "outputs": [
    {
     "data": {
      "text/plain": [
       "RegisterMap {\n",
       "  CTRL = Register(AP_START=0, AP_DONE=0, AP_IDLE=1, AP_READY=0, RESERVED_1=0, AUTO_RESTART=0, RESERVED_2=0, INTERRUPT=0, RESERVED_3=0),\n",
       "  GIER = Register(Enable=0, RESERVED=0),\n",
       "  IP_IER = Register(CHAN0_INT_EN=0, CHAN1_INT_EN=0, RESERVED_0=0),\n",
       "  IP_ISR = Register(CHAN0_INT_ST=0, CHAN1_INT_ST=0, RESERVED_0=0),\n",
       "  A_1 = Register(A=write-only),\n",
       "  A_2 = Register(A=write-only),\n",
       "  B_1 = Register(B=write-only),\n",
       "  B_2 = Register(B=write-only),\n",
       "  Out_r_1 = Register(Out_r=write-only),\n",
       "  Out_r_2 = Register(Out_r=write-only)\n",
       "}"
      ]
     },
     "execution_count": 9,
     "metadata": {},
     "output_type": "execute_result"
    }
   ],
   "source": [
    "baseline.register_map"
   ]
  },
  {
   "cell_type": "code",
   "execution_count": 10,
   "id": "7d1ae04c-1cbf-4704-81df-3355d9831268",
   "metadata": {},
   "outputs": [
    {
     "data": {
      "text/plain": [
       "28"
      ]
     },
     "execution_count": 10,
     "metadata": {},
     "output_type": "execute_result"
    }
   ],
   "source": [
    "baseline.register_map.B_1.address"
   ]
  },
  {
   "cell_type": "code",
   "execution_count": 12,
   "id": "bbd7ca0a-5d34-4b93-b666-3861e4aa3ccb",
   "metadata": {},
   "outputs": [],
   "source": [
    "# Write A address (low and high)\n",
    "baseline.write(baseline.register_map.A_1.address, input1_buffer0.physical_address & 0xFFFFFFFF)\n",
    "baseline.write(baseline.register_map.A_2.address, (input1_buffer0.physical_address >> 32) & 0xFFFFFFFF)\n",
    "\n",
    "# Write B address (low and high)\n",
    "baseline.write(baseline.register_map.B_1.address, input2_buffer0.physical_address & 0xFFFFFFFF)\n",
    "baseline.write(baseline.register_map.B_2.address, (input2_buffer0.physical_address >> 32) & 0xFFFFFFFF)\n",
    "\n",
    "# Write AB address (low and high)\n",
    "baseline.write(baseline.register_map.Out_r_1.address, output_buffer0.physical_address & 0xFFFFFFFF)\n",
    "baseline.write(baseline.register_map.Out_r_2.address, (output_buffer0.physical_address >> 32) & 0xFFFFFFFF)"
   ]
  },
  {
   "cell_type": "code",
   "execution_count": 13,
   "id": "3e4027a3-8730-4b80-8527-59efdfa29e3b",
   "metadata": {},
   "outputs": [],
   "source": [
    "input1_buffer0.sync_to_device()\n",
    "input2_buffer0.sync_to_device()\n",
    "\n",
    "# Start the IP\n",
    "baseline.write(0x00, 0x01)\n",
    "\n",
    "# Wait for AP_DONE\n",
    "while (baseline.read(0x00) & 0x2) == 0:\n",
    "    pass\n",
    "\n",
    "output_buffer0.sync_from_device()"
   ]
  },
  {
   "cell_type": "code",
   "execution_count": 14,
   "id": "0a31985d-a026-423d-9a87-fa1f45137c1d",
   "metadata": {},
   "outputs": [
    {
     "name": "stdout",
     "output_type": "stream",
     "text": [
      "HW mul (baseline) exe time: 0.0004093647003173828s\n"
     ]
    }
   ],
   "source": [
    "baseline.write(0x00, 0x01)\n",
    "start_time = time.time()\n",
    "while True:\n",
    "    reg = baseline.read(0x00)\n",
    "    if reg != 1:\n",
    "        break\n",
    "end_time = time.time()\n",
    "baseline_time = end_time - start_time\n",
    "print(\"HW mul (baseline) exe time: {}s\".format(end_time - start_time))"
   ]
  },
  {
   "cell_type": "code",
   "execution_count": 15,
   "id": "6a16ac6f-d11e-4494-ac76-0f4a03cb8a14",
   "metadata": {},
   "outputs": [
    {
     "name": "stdout",
     "output_type": "stream",
     "text": [
      "output_buffer0: [3.2824864 4.1621275 4.045168  ... 0.        0.        0.       ]\n"
     ]
    }
   ],
   "source": [
    "output_buffer0.sync_from_device()\n",
    "print(\"output_buffer0:\", output_buffer0)"
   ]
  },
  {
   "cell_type": "code",
   "execution_count": 16,
   "id": "a7329011-413c-4c50-96dc-5187abe463b5",
   "metadata": {},
   "outputs": [
    {
     "data": {
      "text/plain": [
       "PynqBuffer([3.2824864, 4.1621275, 4.045168 , ..., 0.       , 0.       ,\n",
       "            0.       ], dtype=float32)"
      ]
     },
     "execution_count": 16,
     "metadata": {},
     "output_type": "execute_result"
    }
   ],
   "source": [
    "output_buffer0"
   ]
  },
  {
   "cell_type": "code",
   "execution_count": 17,
   "id": "6702e6eb-90bb-4a77-9612-bbea96e40478",
   "metadata": {},
   "outputs": [
    {
     "name": "stdout",
     "output_type": "stream",
     "text": [
      "Hardware result:\n",
      " [[3.2824864 4.1621275 4.045168  ... 3.3981855 3.2467558 3.3062618]\n",
      " [3.2309437 3.59007   4.467357  ... 3.776995  4.1853304 5.070635 ]\n",
      " [2.836636  3.5225906 3.3423905 ... 3.1605554 3.3181562 3.9591773]\n",
      " ...\n",
      " [0.        0.        0.        ... 0.        0.        0.       ]\n",
      " [0.        0.        0.        ... 0.        0.        0.       ]\n",
      " [0.        0.        0.        ... 0.        0.        0.       ]]\n",
      "Software result:\n",
      " [[16.186634 15.095465 16.154686 ... 16.354357 14.952542 16.06986 ]\n",
      " [16.51513  17.769445 15.605106 ... 18.478514 15.45704  17.298456]\n",
      " [14.050013 15.466271 13.70028  ... 13.68868  13.435121 15.224033]\n",
      " ...\n",
      " [18.163101 17.869076 16.599476 ... 17.647184 15.95337  16.33484 ]\n",
      " [16.968243 17.295376 16.981222 ... 17.852009 14.485349 16.339268]\n",
      " [13.707981 15.05404  13.903966 ... 14.283077 14.542317 13.730874]]\n",
      "Max difference between HW and SW: 20.978344\n"
     ]
    }
   ],
   "source": [
    "out_hw = output_buffer0.reshape((dim0, dim0))\n",
    "\n",
    "print(\"Hardware result:\\n\", out_hw)\n",
    "print(\"Software result:\\n\", out_py)\n",
    "\n",
    "# Compare results\n",
    "diff = np.abs(out_hw - out_py)\n",
    "print(\"Max difference between HW and SW:\", np.max(diff))"
   ]
  },
  {
   "cell_type": "code",
   "execution_count": null,
   "id": "2140b94f-06b7-4a3d-a4de-41c0504bbdaa",
   "metadata": {},
   "outputs": [],
   "source": []
  }
 ],
 "metadata": {
  "extensions": {
   "jupyter_dashboards": {
    "activeView": "grid_default",
    "version": 1,
    "views": {
     "grid_default": {
      "cellMargin": 2,
      "defaultCellHeight": 40,
      "maxColumns": 12,
      "name": "grid",
      "type": "grid"
     }
    }
   }
  },
  "kernelspec": {
   "display_name": "Python 3 (ipykernel)",
   "language": "python",
   "name": "python3"
  },
  "language_info": {
   "codemirror_mode": {
    "name": "ipython",
    "version": 3
   },
   "file_extension": ".py",
   "mimetype": "text/x-python",
   "name": "python",
   "nbconvert_exporter": "python",
   "pygments_lexer": "ipython3",
   "version": "3.10.12"
  }
 },
 "nbformat": 4,
 "nbformat_minor": 5
}
