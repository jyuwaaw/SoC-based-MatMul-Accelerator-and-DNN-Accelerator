{
 "cells": [
  {
   "cell_type": "code",
   "execution_count": 1,
   "id": "b8d3e8b4-4141-4aab-9711-773b4cda4acc",
   "metadata": {
    "extensions": {
     "jupyter_dashboards": {
      "activeView": "grid_default",
      "views": {
       "grid_default": {
        "col": null,
        "height": 2,
        "hidden": true,
        "locked": true,
        "row": null,
        "width": 2
       }
      }
     }
    }
   },
   "outputs": [
    {
     "name": "stdout",
     "output_type": "stream",
     "text": [
      "/root/jupyter_notebooks/getting_started\n"
     ]
    },
    {
     "ename": "FileNotFoundError",
     "evalue": "[Errno 2] No such file or directory: '../test_cases_act.npy'",
     "output_type": "error",
     "traceback": [
      "\u001b[0;31m---------------------------------------------------------------------------\u001b[0m",
      "\u001b[0;31mFileNotFoundError\u001b[0m                         Traceback (most recent call last)",
      "Input \u001b[0;32mIn [1]\u001b[0m, in \u001b[0;36m<cell line: 9>\u001b[0;34m()\u001b[0m\n\u001b[1;32m      6\u001b[0m num_test_cases \u001b[38;5;241m=\u001b[39m \u001b[38;5;241m10000\u001b[39m\n\u001b[1;32m      7\u001b[0m dim0 \u001b[38;5;241m=\u001b[39m \u001b[38;5;241m16\u001b[39m\n\u001b[0;32m----> 9\u001b[0m test_cases_act \u001b[38;5;241m=\u001b[39m \u001b[43mnp\u001b[49m\u001b[38;5;241;43m.\u001b[39;49m\u001b[43mload\u001b[49m\u001b[43m(\u001b[49m\u001b[38;5;124;43m\"\u001b[39;49m\u001b[38;5;124;43m../test_cases_act.npy\u001b[39;49m\u001b[38;5;124;43m\"\u001b[39;49m\u001b[43m)\u001b[49m\n\u001b[1;32m     10\u001b[0m test_cases_w \u001b[38;5;241m=\u001b[39m np\u001b[38;5;241m.\u001b[39mload(\u001b[38;5;124m\"\u001b[39m\u001b[38;5;124m../test_cases_w.npy\u001b[39m\u001b[38;5;124m\"\u001b[39m)\n\u001b[1;32m     12\u001b[0m \u001b[38;5;66;03m# Ensure that num_test_cases does not exceed the size of the loaded arrays\u001b[39;00m\n",
      "File \u001b[0;32m/usr/local/share/pynq-venv/lib/python3.10/site-packages/numpy/lib/npyio.py:427\u001b[0m, in \u001b[0;36mload\u001b[0;34m(file, mmap_mode, allow_pickle, fix_imports, encoding, max_header_size)\u001b[0m\n\u001b[1;32m    425\u001b[0m     own_fid \u001b[38;5;241m=\u001b[39m \u001b[38;5;28;01mFalse\u001b[39;00m\n\u001b[1;32m    426\u001b[0m \u001b[38;5;28;01melse\u001b[39;00m:\n\u001b[0;32m--> 427\u001b[0m     fid \u001b[38;5;241m=\u001b[39m stack\u001b[38;5;241m.\u001b[39menter_context(\u001b[38;5;28;43mopen\u001b[39;49m\u001b[43m(\u001b[49m\u001b[43mos_fspath\u001b[49m\u001b[43m(\u001b[49m\u001b[43mfile\u001b[49m\u001b[43m)\u001b[49m\u001b[43m,\u001b[49m\u001b[43m \u001b[49m\u001b[38;5;124;43m\"\u001b[39;49m\u001b[38;5;124;43mrb\u001b[39;49m\u001b[38;5;124;43m\"\u001b[39;49m\u001b[43m)\u001b[49m)\n\u001b[1;32m    428\u001b[0m     own_fid \u001b[38;5;241m=\u001b[39m \u001b[38;5;28;01mTrue\u001b[39;00m\n\u001b[1;32m    430\u001b[0m \u001b[38;5;66;03m# Code to distinguish from NumPy binary files and pickles.\u001b[39;00m\n",
      "\u001b[0;31mFileNotFoundError\u001b[0m: [Errno 2] No such file or directory: '../test_cases_act.npy'"
     ]
    }
   ],
   "source": [
    "import numpy as np\n",
    "import os\n",
    "print(os.getcwd())\n",
    "\n",
    "# If your loaded arrays have only 10,000 test cases, set num_test_cases accordingly\n",
    "num_test_cases = 10000\n",
    "dim0 = 16\n",
    "\n",
    "test_cases_act = np.load(\"test_cases_act.npy\")\n",
    "test_cases_w = np.load(\"test_cases_w.npy\")\n",
    "\n",
    "# Ensure that num_test_cases does not exceed the size of the loaded arrays\n",
    "num_test_cases = min(num_test_cases, test_cases_act.shape[0], test_cases_w.shape[0])\n",
    "\n",
    "for i in range(num_test_cases):\n",
    "    in1 = test_cases_act[i]\n",
    "    in2 = test_cases_w[i]\n",
    "    # Process the test cases as needed\n"
   ]
  },
  {
   "cell_type": "code",
   "execution_count": null,
   "id": "5c74cc23-73b0-4efa-b003-27aa869e52b9",
   "metadata": {
    "extensions": {
     "jupyter_dashboards": {
      "activeView": "grid_default",
      "views": {
       "grid_default": {
        "col": null,
        "height": 2,
        "hidden": true,
        "locked": true,
        "row": null,
        "width": 2
       }
      }
     }
    }
   },
   "outputs": [],
   "source": [
    "in1_py = np.resize(in1, (16,16))\n",
    "in2_py = np.resize(in2, (16,16))"
   ]
  },
  {
   "cell_type": "code",
   "execution_count": null,
   "id": "e1713c74-9f34-42a6-b341-80ea0a32d8bd",
   "metadata": {
    "extensions": {
     "jupyter_dashboards": {
      "activeView": "grid_default",
      "views": {
       "grid_default": {
        "col": null,
        "height": 2,
        "hidden": true,
        "locked": true,
        "row": null,
        "width": 2
       }
      }
     }
    }
   },
   "outputs": [],
   "source": [
    "import time\n",
    "start_time = time.time()\n",
    "out_py = np.dot(in1_py,in2_py)\n",
    "end_time = time.time()\n",
    "python_time = end_time - start_time\n",
    "print(\"SW matrix mul exe time: {}s\".format(end_time - start_time))"
   ]
  },
  {
   "cell_type": "code",
   "execution_count": null,
   "id": "c23eccd5-0dc2-4131-8980-1d6810e116d5",
   "metadata": {
    "extensions": {
     "jupyter_dashboards": {
      "activeView": "grid_default",
      "views": {
       "grid_default": {
        "col": null,
        "height": 2,
        "hidden": true,
        "locked": true,
        "row": null,
        "width": 2
       }
      }
     }
    }
   },
   "outputs": [],
   "source": [
    "#print(\"the result of software matmul: \", out_py)"
   ]
  },
  {
   "cell_type": "code",
   "execution_count": null,
   "id": "e1c9fa03-59c2-4d64-9b41-b05bfbe99b09",
   "metadata": {
    "extensions": {
     "jupyter_dashboards": {
      "activeView": "grid_default",
      "views": {
       "grid_default": {
        "col": null,
        "height": 2,
        "hidden": true,
        "locked": true,
        "row": null,
        "width": 2
       }
      }
     }
    },
    "tags": []
   },
   "outputs": [],
   "source": [
    "from pynq import Overlay\n",
    "overlay_baseline = Overlay(\"./matmul_plain/matmul_plain.bit\")\n",
    "baseline = overlay_baseline.matmul_plain_0"
   ]
  },
  {
   "cell_type": "code",
   "execution_count": null,
   "id": "e3e858b6-8ed5-4298-a779-03b76a26c680",
   "metadata": {},
   "outputs": [],
   "source": [
    "from pynq import allocate\n",
    "input1_buffer0 = allocate(shape=(dim0*dim0,), dtype='f4')\n",
    "input2_buffer0 = allocate(shape=(dim0*dim0,), dtype='f4')\n",
    "output_buffer0 = allocate(shape=(dim0*dim0,), dtype='f4')"
   ]
  },
  {
   "cell_type": "code",
   "execution_count": null,
   "id": "8c1c6cbb-1b54-4cd6-961e-ad6abc980a26",
   "metadata": {},
   "outputs": [],
   "source": [
    "np.copyto(input1_buffer0, in1.flatten())\n",
    "np.copyto(input2_buffer0, in2.flatten())\n",
    "\n",
    "print(\"input1_buffer0:\", input1_buffer0)\n",
    "print(\"input2_buffer0:\", input2_buffer0)\n",
    "print(\"output_buffer0:\", output_buffer0)"
   ]
  },
  {
   "cell_type": "code",
   "execution_count": null,
   "id": "2fce56f8-8032-4fc1-8eb3-63d7f0460700",
   "metadata": {},
   "outputs": [],
   "source": [
    "input1_buffer0.sync_to_device()\n",
    "input2_buffer0.sync_to_device()\n",
    "\n",
    "#print(\"input1_buffer0:\", input1_buffer0)\n",
    "#print(\"input2_buffer0:\", input2_buffer0)"
   ]
  },
  {
   "cell_type": "code",
   "execution_count": null,
   "id": "1fd7648a-d8e8-4bbf-bfd7-767ebf382566",
   "metadata": {},
   "outputs": [],
   "source": [
    "#baseline.register_map"
   ]
  },
  {
   "cell_type": "code",
   "execution_count": null,
   "id": "7d1ae04c-1cbf-4704-81df-3355d9831268",
   "metadata": {},
   "outputs": [],
   "source": [
    "baseline.register_map.B_1.address"
   ]
  },
  {
   "cell_type": "code",
   "execution_count": null,
   "id": "bbd7ca0a-5d34-4b93-b666-3861e4aa3ccb",
   "metadata": {},
   "outputs": [],
   "source": [
    "# Write A address (low and high)\n",
    "baseline.write(baseline.register_map.A_1.address, input1_buffer0.physical_address & 0xFFFFFFFF)\n",
    "baseline.write(baseline.register_map.A_2.address, (input1_buffer0.physical_address >> 32) & 0xFFFFFFFF)\n",
    "\n",
    "# Write B address (low and high)\n",
    "baseline.write(baseline.register_map.B_1.address, input2_buffer0.physical_address & 0xFFFFFFFF)\n",
    "baseline.write(baseline.register_map.B_2.address, (input2_buffer0.physical_address >> 32) & 0xFFFFFFFF)\n",
    "\n",
    "# Write AB address (low and high)\n",
    "baseline.write(baseline.register_map.AB_1.address, output_buffer0.physical_address & 0xFFFFFFFF)\n",
    "baseline.write(baseline.register_map.AB_2.address, (output_buffer0.physical_address >> 32) & 0xFFFFFFFF)"
   ]
  },
  {
   "cell_type": "code",
   "execution_count": null,
   "id": "3e4027a3-8730-4b80-8527-59efdfa29e3b",
   "metadata": {},
   "outputs": [],
   "source": [
    "input1_buffer0.sync_to_device()\n",
    "input2_buffer0.sync_to_device()\n",
    "\n",
    "# Start the IP\n",
    "baseline.write(0x00, 0x01)\n",
    "\n",
    "# Wait for AP_DONE\n",
    "while (baseline.read(0x00) & 0x2) == 0:\n",
    "    pass\n",
    "\n",
    "output_buffer0.sync_from_device()"
   ]
  },
  {
   "cell_type": "code",
   "execution_count": null,
   "id": "0a31985d-a026-423d-9a87-fa1f45137c1d",
   "metadata": {},
   "outputs": [],
   "source": [
    "baseline.write(0x00, 0x01)\n",
    "start_time = time.time()\n",
    "while True:\n",
    "    reg = baseline.read(0x00)\n",
    "    if reg != 1:\n",
    "        break\n",
    "end_time = time.time()\n",
    "baseline_time = end_time - start_time\n",
    "print(\"HW mul (baseline) exe time: {}s\".format(end_time - start_time))"
   ]
  },
  {
   "cell_type": "code",
   "execution_count": null,
   "id": "6a16ac6f-d11e-4494-ac76-0f4a03cb8a14",
   "metadata": {},
   "outputs": [],
   "source": [
    "output_buffer0.sync_from_device()\n",
    "print(\"output_buffer0:\", output_buffer0)"
   ]
  },
  {
   "cell_type": "code",
   "execution_count": null,
   "id": "a7329011-413c-4c50-96dc-5187abe463b5",
   "metadata": {},
   "outputs": [],
   "source": [
    "output_buffer0"
   ]
  },
  {
   "cell_type": "code",
   "execution_count": null,
   "id": "6702e6eb-90bb-4a77-9612-bbea96e40478",
   "metadata": {},
   "outputs": [],
   "source": [
    "out_hw = output_buffer0.reshape((dim0, dim0))\n",
    "\n",
    "#print(\"Hardware result:\\n\", out_hw)\n",
    "#print(\"Software result:\\n\", out_py)\n",
    "\n",
    "# Compare results\n",
    "diff = np.abs(out_hw - out_py)\n",
    "max_diff = np.max(diff)\n",
    "print(f\"Test Case {test_cases_act + 1}: Max Difference = {max_diff}\")"
   ]
  }
 ],
 "metadata": {
  "extensions": {
   "jupyter_dashboards": {
    "activeView": "grid_default",
    "version": 1,
    "views": {
     "grid_default": {
      "cellMargin": 2,
      "defaultCellHeight": 40,
      "maxColumns": 12,
      "name": "grid",
      "type": "grid"
     }
    }
   }
  },
  "kernelspec": {
   "display_name": "Python 3 (ipykernel)",
   "language": "python",
   "name": "python3"
  },
  "language_info": {
   "codemirror_mode": {
    "name": "ipython",
    "version": 3
   },
   "file_extension": ".py",
   "mimetype": "text/x-python",
   "name": "python",
   "nbconvert_exporter": "python",
   "pygments_lexer": "ipython3",
   "version": "3.10.12"
  }
 },
 "nbformat": 4,
 "nbformat_minor": 5
}
