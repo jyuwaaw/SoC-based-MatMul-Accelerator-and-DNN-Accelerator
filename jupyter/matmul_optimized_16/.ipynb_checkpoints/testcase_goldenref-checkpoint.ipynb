{
 "cells": [
  {
   "cell_type": "code",
   "execution_count": 24,
   "id": "20c11a00-9b41-44e5-9618-57a1b5753803",
   "metadata": {},
   "outputs": [
    {
     "name": "stdout",
     "output_type": "stream",
     "text": [
      "/root/jupyter_notebooks/getting_started/matmul_optimized_64\n"
     ]
    }
   ],
   "source": [
    "import numpy as np\n",
    "import time\n",
    "import os\n",
    "print(os.getcwd())\n",
    "\n",
    "# Load test cases for FPGA validation\n",
    "loaded_test_cases = np.load(\"../test_cases.npy\", allow_pickle=True)\n",
    "loaded_golden_results = np.load(\"../golden_results.npy\", allow_pickle=True)\n",
    "\n",
    "# Validate on FPGA\n",
    "from pynq import Overlay, allocate\n",
    "\n",
    "# Load the FPGA bitstream\n",
    "overlay_baseline = Overlay(\"matmult_optimized.bit\")\n",
    "baseline = overlay_baseline.matmul_optimized_0"
   ]
  },
  {
   "cell_type": "code",
   "execution_count": 25,
   "id": "627d9a93-6fd8-4246-9913-e4d426e1b820",
   "metadata": {},
   "outputs": [
    {
     "name": "stdout",
     "output_type": "stream",
     "text": [
      "input1_buffer: [0.81966764 0.1675325  0.04471349 ... 0.4347821  0.74261725 0.9171499 ]\n",
      "input2_buffer: [0.8811151  0.4946358  0.4713695  ... 0.20226885 0.82889223 0.3881654 ]\n",
      "input1_buffer: [0.14156799 0.97300345 0.8477219  ... 0.5446532  0.91756237 0.26658309]\n",
      "input2_buffer: [0.58535784 0.39883885 0.91090226 ... 0.57346183 0.8548178  0.41129366]\n",
      "input1_buffer: [0.39106223 0.73678154 0.26080117 ... 0.7858722  0.9175363  0.25514588]\n",
      "input2_buffer: [0.13963683 0.8187183  0.30443844 ... 0.33749834 0.7544042  0.05446207]\n",
      "input1_buffer: [0.9742658  0.16500747 0.45274958 ... 0.7454064  0.29902488 0.3715154 ]\n",
      "input2_buffer: [0.44239575 0.8698275  0.46590012 ... 0.16378956 0.9577368  0.6995783 ]\n",
      "input1_buffer: [0.01249138 0.9045198  0.62501895 ... 0.6883723  0.29389095 0.6857146 ]\n",
      "input2_buffer: [0.10452426 0.75112146 0.91367984 ... 0.5623621  0.10725173 0.94910663]\n",
      "input1_buffer: [0.8620643  0.7209815  0.02044337 ... 0.97894245 0.19960774 0.34691927]\n",
      "input2_buffer: [0.42660198 0.6870792  0.9731831  ... 0.47377396 0.5764167  0.10962763]\n",
      "input1_buffer: [0.99529237 0.38313064 0.21359496 ... 0.65141577 0.06284233 0.6926636 ]\n",
      "input2_buffer: [0.11205067 0.02689487 0.10162625 ... 0.62411875 0.59903324 0.4681719 ]\n",
      "input1_buffer: [0.8817623  0.44655034 0.10320137 ... 0.09253135 0.48061135 0.03079421]\n",
      "input2_buffer: [0.770771   0.9747387  0.34034845 ... 0.679313   0.6372545  0.7938389 ]\n",
      "input1_buffer: [0.5333846  0.2547321  0.45200545 ... 0.99513537 0.2227023  0.82737625]\n",
      "input2_buffer: [0.91089356 0.5307726  0.5101307  ... 0.8911161  0.01151048 0.7128786 ]\n",
      "input1_buffer: [0.53463304 0.5952349  0.1444204  ... 0.5715438  0.49450776 0.7950929 ]\n",
      "input2_buffer: [0.8409313  0.14080635 0.96117806 ... 0.00942873 0.51622397 0.11875216]\n"
     ]
    }
   ],
   "source": [
    "for idx, (A, B) in enumerate(loaded_test_cases):\n",
    "    # Flatten matrices for FPGA input\n",
    "    A_flat = A.flatten()\n",
    "    B_flat = B.flatten()\n",
    "    \n",
    "    # Allocate buffers for 64x64 matrices\n",
    "    input1_buffer = allocate(shape=(64*64,), dtype='f4')\n",
    "    input2_buffer = allocate(shape=(64*64,), dtype='f4')\n",
    "    output_buffer = allocate(shape=(64*64,), dtype='f4')\n",
    "    \n",
    "    # Copy test case data to buffers\n",
    "    np.copyto(input1_buffer, A_flat)\n",
    "    np.copyto(input2_buffer, B_flat)\n",
    "    \n",
    "    # Sync buffers to device\n",
    "    input1_buffer.sync_to_device()\n",
    "    input2_buffer.sync_to_device()\n",
    "    print(\"input1_buffer:\", input1_buffer)\n",
    "    print(\"input2_buffer:\", input2_buffer)"
   ]
  },
  {
   "cell_type": "code",
   "execution_count": 26,
   "id": "1a590f9c-46db-4f3b-a9a1-1fb3d29ab13b",
   "metadata": {},
   "outputs": [
    {
     "name": "stdout",
     "output_type": "stream",
     "text": [
      "HW mul (baseline) exe time: 0.000402s\n",
      "output_buffer: [4.1468    3.818788  4.2527423 ... 0.        0.        0.       ]\n"
     ]
    }
   ],
   "source": [
    "    # Write buffer addresses to FPGA (both low and high parts)\n",
    "    baseline.write(baseline.register_map.A_1.address, input1_buffer.physical_address & 0xFFFFFFFF)\n",
    "    baseline.write(baseline.register_map.A_2.address, (input1_buffer.physical_address >> 32) & 0xFFFFFFFF)\n",
    "    baseline.write(baseline.register_map.B_1.address, input2_buffer.physical_address & 0xFFFFFFFF)\n",
    "    baseline.write(baseline.register_map.B_2.address, (input2_buffer.physical_address >> 32) & 0xFFFFFFFF)\n",
    "    baseline.write(baseline.register_map.Out_r_1.address, output_buffer.physical_address & 0xFFFFFFFF)\n",
    "    baseline.write(baseline.register_map.Out_r_2.address, (output_buffer.physical_address >> 32) & 0xFFFFFFFF)\n",
    "    \n",
    "    # Start the FPGA computation\n",
    "    baseline.write(0x00, 0x01)\n",
    "    \n",
    "    # Start timer\n",
    "    start_time = time.time()\n",
    "    \n",
    "    # Wait for completion\n",
    "    while (baseline.read(0x00) & 0x2) == 0:  # Wait for the AP_DONE bit\n",
    "        pass\n",
    "    \n",
    "    end_time = time.time()\n",
    "    baseline_time = end_time - start_time\n",
    "    print(f\"HW mul (baseline) exe time: {baseline_time:.6f}s\")\n",
    "    \n",
    "    # Sync result buffer from device\n",
    "    output_buffer.sync_from_device()\n",
    "    \n",
    "    print(\"output_buffer:\", output_buffer)"
   ]
  },
  {
   "cell_type": "code",
   "execution_count": 27,
   "id": "2d9913e1-38f1-4859-858f-770f938d3333",
   "metadata": {},
   "outputs": [
    {
     "ename": "IndentationError",
     "evalue": "unexpected indent (4256819411.py, line 2)",
     "output_type": "error",
     "traceback": [
      "\u001b[0;36m  Input \u001b[0;32mIn [27]\u001b[0;36m\u001b[0m\n\u001b[0;31m    fpga_result = output_buffer.reshape((64, 64))\u001b[0m\n\u001b[0m    ^\u001b[0m\n\u001b[0;31mIndentationError\u001b[0m\u001b[0;31m:\u001b[0m unexpected indent\n"
     ]
    }
   ],
   "source": [
    "    # Reshape FPGA output to 64x64\n",
    "    fpga_result = output_buffer.reshape((64, 64))\n",
    "    print(\"Output Matrix:\", fpga_result)\n",
    "    # Compare FPGA result with golden result\n",
    "    golden_result = loaded_golden_results[idx]\n",
    "    diff = np.abs(fpga_result - golden_result)\n",
    "    max_diff = np.max(diff)\n",
    "    print(f\"Test Case {idx + 1}: Max Difference = {max_diff}\")\n",
    "    \n",
    "    # Free buffers\n",
    "    input1_buffer.freebuffer()\n",
    "    input2_buffer.freebuffer()\n",
    "    output_buffer.freebuffer()\n",
    "\n",
    "print(\"Validation complete.\")\n"
   ]
  }
 ],
 "metadata": {
  "kernelspec": {
   "display_name": "Python 3 (ipykernel)",
   "language": "python",
   "name": "python3"
  },
  "language_info": {
   "codemirror_mode": {
    "name": "ipython",
    "version": 3
   },
   "file_extension": ".py",
   "mimetype": "text/x-python",
   "name": "python",
   "nbconvert_exporter": "python",
   "pygments_lexer": "ipython3",
   "version": "3.10.12"
  }
 },
 "nbformat": 4,
 "nbformat_minor": 5
}
